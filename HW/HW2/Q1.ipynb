{
 "cells": [
  {
   "cell_type": "code",
   "execution_count": 1,
   "metadata": {},
   "outputs": [],
   "source": [
    "import cv2 as cv\n",
    "import time\n",
    "import numpy as np\n",
    "from matplotlib import pyplot as plt\n",
    "from tqdm import tqdm, trange\n",
    "from scipy import ndimage, signal\n"
   ]
  },
  {
   "cell_type": "code",
   "execution_count": 2,
   "metadata": {},
   "outputs": [],
   "source": [
    "img = cv.imread(\"C:/Users/nimac/MyProjects/vision/HW/HW2/Books.JPG\")\n",
    "img = np.uint32(img)"
   ]
  },
  {
   "cell_type": "code",
   "execution_count": 3,
   "metadata": {},
   "outputs": [
    {
     "name": "stdout",
     "output_type": "stream",
     "text": [
      "(1280, 960, 3)\n"
     ]
    }
   ],
   "source": [
    "print(img.shape)"
   ]
  },
  {
   "cell_type": "code",
   "execution_count": 8,
   "metadata": {},
   "outputs": [],
   "source": [
    "def show_heatmap(mat, pl=plt):\n",
    "    pl.imshow(mat, cmap='hot', interpolation='nearest')\n",
    "\n",
    "def gaussian_kernel(size, sigma=1):\n",
    "    size = int(size) // 2\n",
    "    x, y = np.mgrid[-size:size+1, -size:size+1]\n",
    "    normal = 1 / (2.0 * np.pi * sigma**2)\n",
    "    g =  np.exp(-((x**2 + y**2) / (2.0*sigma**2))) * normal\n",
    "    return g\n",
    "\n",
    "def get_edge(image, FILTER_SIZE=9, SHOW_FILTER=False):\n",
    "    \n",
    "    gauss1d = np.array(cv.getGaussianKernel(FILTER_SIZE + 2, FILTER_SIZE/3, cv.CV_32F))\n",
    "    d_gauss1d = gauss1d[1:] - gauss1d[:-1]\n",
    "    gauss2d = np.dot(gauss1d,  gauss1d.transpose())\n",
    "    \n",
    "    d_gauss1d_ver_col = d_gauss1d[:-1]\n",
    "    d_gauss1d_ver_row = gauss1d[1:-1].transpose()\n",
    "    d_gauss1d_hor_col = gauss1d[1:-1]\n",
    "    d_gauss1d_hor_row = d_gauss1d[:-1].transpose()\n",
    "    \n",
    "    \n",
    "    d_gauss2d_x2 = np.dot(d_gauss1d_hor_col, d_gauss1d_hor_row)\n",
    "    d_gauss2d_y2 = np.dot(d_gauss1d_ver_col, d_gauss1d_ver_row)\n",
    "    d_gauss2d_x = gauss2d[:, 1:] - gauss2d[:, :-1]\n",
    "    d_gauss2d_y = gauss2d[1:, :] - gauss2d[:-1, :]\n",
    "    d_gauss2d_x = d_gauss2d_x[1:-1, :-1]\n",
    "    d_gauss2d_y = d_gauss2d_y[:-1, 1:-1]\n",
    "    \n",
    "    \n",
    "    if SHOW_FILTER:\n",
    "        print(\"different of our ver, hor filter by directly making and using row, col filters:\")\n",
    "        print(len(np.argwhere(np.abs(d_gauss2d_x - d_gauss2d_x2) > 0.001)))\n",
    "        print(len(np.argwhere(np.abs(d_gauss2d_y - d_gauss2d_y2) > 0.001)))\n",
    "        \n",
    "        print(\"our 2d gauss filter\")\n",
    "        _, axs = plt.subplots(1, 1, figsize=(6, 6))\n",
    "        show_heatmap(gauss2d, axs)\n",
    "        plt.show()\n",
    "        \n",
    "        _, axs = plt.subplots(1, 2, figsize=(6, 6))\n",
    "        axs = axs.flatten()\n",
    "        print(\"our horizontal filter(derive of gauss filter in x)\")\n",
    "        show_heatmap(d_gauss2d_x, axs[0])\n",
    "        print(\"our vertical filter(derive of gauss filter in y)\")\n",
    "        show_heatmap(d_gauss2d_y, axs[1])\n",
    "        plt.show()\n",
    "        \n",
    "        _, axs = plt.subplots(1, 2, figsize=(6, 6))\n",
    "        axs = axs.flatten()\n",
    "        print(\"our horizontal-col filter\")\n",
    "        show_heatmap(d_gauss1d_hor_col, axs[0])\n",
    "        print(\"our horizontal-row filter\")\n",
    "        show_heatmap(d_gauss1d_hor_row, axs[1])\n",
    "        plt.show()\n",
    "        \n",
    "        _, axs = plt.subplots(1, 2, figsize=(6, 6))\n",
    "        axs = axs.flatten()\n",
    "        print(\"our vertical-col filter\")\n",
    "        show_heatmap(d_gauss1d_ver_col, axs[0])\n",
    "        print(\"our vertical-row filter\")\n",
    "        show_heatmap(d_gauss1d_ver_row, axs[1])\n",
    "        plt.show()\n",
    "        \n",
    "        _, axs = plt.subplots(1, 2, figsize=(6, 6))\n",
    "        axs = axs.flatten()\n",
    "        print(\"our horizontal filter by using column and row filter\")\n",
    "        show_heatmap(d_gauss2d_x2, axs[0])\n",
    "        print(\"our vertical filter by using column and row filter\")\n",
    "        show_heatmap(d_gauss2d_y2, axs[1])\n",
    "        plt.show()\n",
    "        \n",
    "\n",
    "#     d_img_x = (np.abs(cv.filter2D(np.uint16(img), cv.CV_16U, d_gauss2d_x)))\n",
    "#     d_img_y = (np.abs(cv.filter2D(np.uint16(img), cv.CV_16U, d_gauss2d_y)))\n",
    "    \n",
    "#     d_gauss1d_ver_col = np.reshape(d_gauss1d[:-1], (1,-1))\n",
    "#     d_gauss1d_ver_row = np.reshape(gauss1d[1:-1].transpose(), (1,-1))\n",
    "#     d_gauss1d_hor_col = np.reshape(gauss1d[1:-1], (1,-1))\n",
    "#     d_gauss1d_hor_row = np.reshape(d_gauss1d[:-1].transpose(), (1,-1))\n",
    "    \n",
    "    conv_x = np.abs(ndimage.filters.convolve(image, d_gauss2d_x, mode=\"nearest\"))\n",
    "    conv_y = np.abs(ndimage.filters.convolve(image, d_gauss2d_y, mode=\"nearest\"))\n",
    "    conv_hor_row = np.abs(ndimage.filters.convolve(image, d_gauss1d_hor_row, mode=\"nearest\"))\n",
    "    conv_hor_col = np.abs(ndimage.filters.convolve(conv_hor_row, d_gauss1d_hor_col, mode=\"nearest\"))\n",
    "    conv_ver_row = np.abs(ndimage.filters.convolve(image, d_gauss1d_ver_row, mode=\"nearest\"))\n",
    "    conv_ver_col = np.abs(ndimage.filters.convolve(conv_ver_row, d_gauss1d_ver_col, mode=\"nearest\"))\n",
    "    \n",
    "#     signal.convolve2d(, , boundary='symm', mode='same')\n",
    "    \n",
    "    return conv_x, conv_y, conv_hor_col, conv_hor_row, conv_ver_col, conv_ver_row"
   ]
  },
  {
   "cell_type": "markdown",
   "metadata": {},
   "source": [
    "<div dir=\"rtl\">\n",
    "برای پیدا کردن نقاط لبه، از فیلتر مشتق گاوس استفاده کردیم و مقدار سیگمای ۳ برای فیلتر با سایز ۹در۹، خروجی مناسبی ارائه داد\n",
    "</div>\n",
    "\n",
    "<div dir=\"rtl\">\n",
    "در اینجا ما ابتدا تابع یکبعدی گاوس را ساخته و سپس با ضرب ماتریسی آن را دو بعدی می کنیم\n",
    "</div>\n",
    "<div dir=\"rtl\">\n",
    "در اینجا ما ابتدا تابع یکبعدی گاوس را ساخته و سپس با ضرب ماتریسی آن را دو بعدی می کنیم\n",
    "</div>\n",
    "\n",
    "g = 1 dimention gauss\n",
    "gauss2d = $ g\\times g^T $\n",
    "\n",
    "<div dir=\"rtl\">\n",
    "تابع پیدا کردن لبه، طبق روند گفته شده در تمرین به صورت عمودی، افقی و چهار فیلتر سطری ستونی، عملیات کانوالو را انجام می دهد و در خروجی به ترتیب نتیجه افقی، عمودی، ستونی افقی، سطری افقی، ستونی عمودی و سطری عمودی را بر می گرداند\n",
    "</div>"
   ]
  },
  {
   "cell_type": "code",
   "execution_count": 10,
   "metadata": {},
   "outputs": [
    {
     "name": "stdout",
     "output_type": "stream",
     "text": [
      "different of our ver, hor filter by directly making and using row, col filters:\n",
      "0\n",
      "0\n",
      "our 2d gauss filter\n"
     ]
    },
    {
     "data": {
      "image/png": "[encoded data removed]",
      "text/plain": [
       "<Figure size 432x432 with 1 Axes>"
      ]
     },
     "metadata": {
      "needs_background": "light"
     },
     "output_type": "display_data"
    },
    {
     "name": "stdout",
     "output_type": "stream",
     "text": [
      "our horizontal filter(derive of gauss filter in x)\n",
      "our vertical filter(derive of gauss filter in y)\n"
     ]
    },
    {
     "data": {
      "image/png": "[encoded data removed]",
      "text/plain": [
       "<Figure size 432x432 with 2 Axes>"
      ]
     },
     "metadata": {
      "needs_background": "light"
     },
     "output_type": "display_data"
    },
    {
     "name": "stdout",
     "output_type": "stream",
     "text": [
      "our horizontal-col filter\n",
      "our horizontal-row filter\n"
     ]
    },
    {
     "data": {
      "image/png": "[encoded data removed]",
      "text/plain": [
       "<Figure size 432x432 with 2 Axes>"
      ]
     },
     "metadata": {
      "needs_background": "light"
     },
     "output_type": "display_data"
    },
    {
     "name": "stdout",
     "output_type": "stream",
     "text": [
      "our vertical-col filter\n",
      "our vertical-row filter\n"
     ]
    },
    {
     "data": {
      "image/png": "[encoded data removed]",
      "text/plain": [
       "<Figure size 432x432 with 2 Axes>"
      ]
     },
     "metadata": {
      "needs_background": "light"
     },
     "output_type": "display_data"
    },
    {
     "name": "stdout",
     "output_type": "stream",
     "text": [
      "our horizontal filter by using column and row filter\n",
      "our vertical filter by using column and row filter\n"
     ]
    },
    {
     "data": {
      "image/png": "[encoded data removed]",
      "text/plain": [
       "<Figure size 432x432 with 2 Axes>"
      ]
     },
     "metadata": {
      "needs_background": "light"
     },
     "output_type": "display_data"
    },
    {
     "name": "stdout",
     "output_type": "stream",
     "text": [
      "12707\n",
      "762643\n",
      "1.5707963267948966 0.0\n"
     ]
    },
    {
     "data": {
      "text/plain": [
       "True"
      ]
     },
     "execution_count": 10,
     "metadata": {},
     "output_type": "execute_result"
    }
   ],
   "source": [
    "img_r = img[:, :, 0]\n",
    "img_g = img[:, :, 1]\n",
    "img_b = img[:, :, 2]\n",
    "\n",
    "FILTER_SIZE = 9\n",
    "EDGE_THRESH = 7\n",
    "edge_r = np.minimum(get_edge(img_r, FILTER_SIZE, True), 255)\n",
    "edge_g = np.minimum(get_edge(img_g, FILTER_SIZE), 255)\n",
    "edge_b = np.minimum(get_edge(img_b, FILTER_SIZE), 255)\n",
    "\n",
    "edge_x = np.maximum(np.maximum(edge_r[0], edge_g[0]), edge_b[0])\n",
    "cv.imwrite(\"./Q1-05-hor.jpg\", np.uint8(edge_x))\n",
    "edge_y = np.maximum(np.maximum(edge_r[1], edge_g[1]), edge_b[1])\n",
    "cv.imwrite(\"./Q1-06-ver.jpg\", np.uint8(edge_y))\n",
    "\n",
    "\n",
    "edge_hor_col = np.maximum(np.maximum(edge_r[2], edge_g[2]), edge_b[2])\n",
    "cv.imwrite(\"./Q1-03-hor-col.jpg\", np.uint8(edge_hor_col))\n",
    "edge_hor_row = np.maximum(np.maximum(edge_r[3], edge_g[3]), edge_b[3])\n",
    "cv.imwrite(\"./Q1-01-hor-row.jpg\", np.uint8(edge_hor_row))\n",
    "edge_ver_col = np.maximum(np.maximum(edge_r[4], edge_g[4]), edge_b[4])\n",
    "cv.imwrite(\"./Q1-04-ver-col.jpg\", np.uint8(edge_ver_col))\n",
    "edge_ver_row = np.maximum(np.maximum(edge_r[5], edge_g[5]), edge_b[5])\n",
    "cv.imwrite(\"./Q1-02-ver-row.jpg\", np.uint8(edge_ver_row))\n",
    "\n",
    "print(len(np.argwhere(edge_ver_col - edge_y>10)))\n",
    "print(len(np.argwhere(edge_hor_col - edge_x>10)))\n",
    "\n",
    "grad = np.hypot(np.uint32(edge_x), np.uint32(edge_y))\n",
    "cv.imwrite(\"./Q1-07-grad-map.jpg\", np.uint8(grad))\n",
    "angle = np.arctan2(edge_y, edge_x)\n",
    "print(np.max(angle), np.min(angle))\n",
    "cv.imwrite(\"./Q1-08-grad-dir.jpg\", np.uint8(angle))\n",
    "grad = (grad > EDGE_THRESH) * 255\n",
    "cv.imwrite(\"./Q1-09-edge.jpg\", np.uint8(grad))"
   ]
  },
  {
   "cell_type": "markdown",
   "metadata": {},
   "source": [
    "<div dir=\"rtl\">\n",
    "برای جداسازی فیلترهای مشتق افقی و عمودی از قوانین مشتق و کانولوشن کمک می گیریم و می دانیم که تابع گاوس دو بعدی همان ضرب دو تابع گوس یک بعدی است که در حالت ماتریسی می شود ضرب ماتریسی یک ماتریس یک بعدی ستونی گاوسی در یک ماتریس یک بعدی سطری گاوسی.\n",
    "پس برای محاسبه مشتق آن ها با توجه به خاصیت کانولوشن زیر داریم:\n",
    "</div>\n",
    "\n",
    "$ (f*g)' = (f')*g = f*(g') $\n",
    "\n",
    "<div dir=\"rtl\">\n",
    "پس فیلتر مشتق گوسی در هر راستا، برابر است با اینکه هنگام ساخت آن، از فیلتر یکبعدی مورد نظر مشتق بگیریم که برای فیلتر عمودی می شود مشتق از فیلتر یکبعدی ستونی و فیلتر مشتق افقی برابر است با مشتق فیلتر یکبعدی سطی.\n",
    "\n",
    "مقدار آستانه برای گرادیان که برای بدست آمدن لبه استفاده است، مقدار ۷ می باشد.\n",
    "   \n",
    "</div>"
   ]
  },
  {
   "cell_type": "code",
   "execution_count": null,
   "metadata": {},
   "outputs": [],
   "source": []
  },
  {
   "cell_type": "code",
   "execution_count": null,
   "metadata": {},
   "outputs": [],
   "source": []
  },
  {
   "cell_type": "code",
   "execution_count": null,
   "metadata": {},
   "outputs": [],
   "source": []
  }
 ],
 "metadata": {
  "kernelspec": {
   "display_name": "Python 3",
   "language": "python",
   "name": "python3"
  },
  "language_info": {
   "codemirror_mode": {
    "name": "ipython",
    "version": 3
   },
   "file_extension": ".py",
   "mimetype": "text/x-python",
   "name": "python",
   "nbconvert_exporter": "python",
   "pygments_lexer": "ipython3",
   "version": "3.7.4"
  }
 },
 "nbformat": 4,
 "nbformat_minor": 4
}
