{
 "cells": [
  {
   "cell_type": "code",
   "execution_count": 1,
   "metadata": {
    "ExecuteTime": {
     "end_time": "2019-11-02T10:42:39.873687Z",
     "start_time": "2019-11-02T10:42:30.934206Z"
    }
   },
   "outputs": [],
   "source": [
    "!pip3 install -q --user numpy\n",
    "!pip3 install -q --user opencv-python\n",
    "!pip3 install -q --user pandas\n",
    "!pip3 install -q --user matplotlib"
   ]
  },
  {
   "cell_type": "code",
   "execution_count": 2,
   "metadata": {
    "ExecuteTime": {
     "end_time": "2019-11-02T10:42:51.959350Z",
     "start_time": "2019-11-02T10:42:45.445978Z"
    }
   },
   "outputs": [
    {
     "data": {
      "text/plain": [
       "13"
      ]
     },
     "execution_count": 2,
     "metadata": {},
     "output_type": "execute_result"
    }
   ],
   "source": [
    "import cv2\n",
    "import numpy as np\n",
    "cv2.destroyAllWindows()\n",
    "cv2.namedWindow('first', cv2.WINDOW_NORMAL,)\n",
    "cv2.namedWindow('second', cv2.WINDOW_NORMAL,)\n",
    "\n",
    "im = cv2.imread(\"C:/Users/nimac/MyProjects/vision/HW/HW1/im030.jpg\")\n",
    "cv2.imshow(\"first\", im)\n",
    "cv2.waitKey(0)"
   ]
  },
  {
   "cell_type": "code",
   "execution_count": 3,
   "metadata": {
    "ExecuteTime": {
     "end_time": "2019-11-02T10:43:14.961428Z",
     "start_time": "2019-11-02T10:42:53.473254Z"
    }
   },
   "outputs": [
    {
     "name": "stdout",
     "output_type": "stream",
     "text": [
      "(2592, 3888, 3)\n"
     ]
    },
    {
     "data": {
      "text/plain": [
       "True"
      ]
     },
     "execution_count": 3,
     "metadata": {},
     "output_type": "execute_result"
    }
   ],
   "source": [
    "row = im.shape[0]\n",
    "col = im.shape[1]\n",
    "img_final = np.uint32(im.copy())\n",
    "\n",
    "img_r = img_final[:, :, 0]\n",
    "img_g = img_final[:, :, 1]\n",
    "img_b = img_final[:, :, 2]\n",
    "\n",
    "SELECT_THRESH = 255\n",
    "REWARD_THRESH = 300\n",
    "MINUS_THRESH = 50\n",
    "COEF_THRESH = 0.07\n",
    "CHANNEL = 2\n",
    "print(img_final.shape)\n",
    "\n",
    "def optimize(img, COEF_THRESH):\n",
    "    img = 255*np.log2(1 + COEF_THRESH * img)/np.log2(1+COEF_THRESH*255)\n",
    "#     img = img - MINUS_THRESH\n",
    "    img = np.maximum(np.minimum(img, 255), 15)\n",
    "#     img = img - np.min(img)\n",
    "#     img_range = np.max(img) - np.min(img)\n",
    "#     img = img *(255/img_range)\n",
    "    return img\n",
    "\n",
    "\n",
    "img_r = optimize(img_r, 0.1)\n",
    "img_g = optimize(img_g, 0.1)\n",
    "img_b = optimize(img_b, 0.1)\n",
    "img_final[:, :, 0] = img_r\n",
    "img_final[:, :, 1] = img_g\n",
    "img_final[:, :, 2] = img_b\n",
    "\n",
    "img_final = np.uint8(img_final)\n",
    "hsv_img = np.uint32(cv2.cvtColor(img_final, cv2.COLOR_BGR2HSV))\n",
    "hsv_img[:,:,2] += 10\n",
    "hsv_img = np.uint8(np.maximum(np.minimum(hsv_img, 255), 0))\n",
    "img_final = cv2.cvtColor(hsv_img, cv2.COLOR_HSV2BGR)\n",
    "\n",
    "cv2.imshow(\"second\", img_final)\n",
    "cv2.waitKey(0)\n",
    "cv2.imwrite('im01.jpg', img_final)"
   ]
  },
  {
   "cell_type": "markdown",
   "metadata": {
    "ExecuteTime": {
     "end_time": "2019-10-26T11:57:51.282921Z",
     "start_time": "2019-10-26T11:57:51.118933Z"
    }
   },
   "source": [
    "\n",
    "\n"
   ]
  },
  {
   "cell_type": "markdown",
   "metadata": {},
   "source": [
    "<div dir=\"rtl\">\n",
    "برای بهبود تصویر، از تابع لگاریتمی معرفی شده در کلاس استفاده شد. این تابع مقادیر بسیار روشن را ابتدا به مقادیر کمتر نزدیک می کند و سپس کل اعداد را بین صفر تا ۲۵۵ مقیاس می کند.\n",
    "برای بهبود بیشتر تلاش شد تا کمی پیکسل های بسیار پر نور را کمتر کنیم، اما نتیجه بهتر از قبل نشد.\n",
    "همچنین به صورت تک کانال تک کانال تلاش شد تا تصویر بهبود پیدا کند ولی بهترین نتیجه وقتی بود که تمام کانال ها یکسان تغییر می کردند\n",
    "سپس از تبدیل عکس به مبنای اچ اس وی استفاده شد تا کمی نیز توسط آن روشنایی عکس افزایش پیدا کند که تاثیر اندکی بر بعبود عکس داشت.\n",
    "</div>\n"
   ]
  },
  {
   "cell_type": "code",
   "execution_count": null,
   "metadata": {},
   "outputs": [],
   "source": []
  }
 ],
 "metadata": {
  "kernelspec": {
   "display_name": "Python 3",
   "language": "python",
   "name": "python3"
  },
  "language_info": {
   "codemirror_mode": {
    "name": "ipython",
    "version": 3
   },
   "file_extension": ".py",
   "mimetype": "text/x-python",
   "name": "python",
   "nbconvert_exporter": "python",
   "pygments_lexer": "ipython3",
   "version": "3.7.5"
  }
 },
 "nbformat": 4,
 "nbformat_minor": 4
}
