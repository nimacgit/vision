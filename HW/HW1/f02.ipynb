{
 "cells": [
  {
   "cell_type": "code",
   "execution_count": 3,
   "metadata": {
    "ExecuteTime": {
     "end_time": "2019-11-02T10:44:44.692285Z",
     "start_time": "2019-11-02T10:44:44.687274Z"
    }
   },
   "outputs": [],
   "source": [
    "import cv2\n",
    "import numpy as np\n",
    "import scipy.stats\n",
    "import time"
   ]
  },
  {
   "cell_type": "code",
   "execution_count": 6,
   "metadata": {
    "ExecuteTime": {
     "end_time": "2019-11-02T10:46:32.394773Z",
     "start_time": "2019-11-02T10:46:29.489483Z"
    }
   },
   "outputs": [
    {
     "data": {
      "text/plain": [
       "13"
      ]
     },
     "execution_count": 6,
     "metadata": {},
     "output_type": "execute_result"
    }
   ],
   "source": [
    "cv2.destroyAllWindows()\n",
    "cv2.namedWindow('first', cv2.WINDOW_NORMAL,)\n",
    "cv2.namedWindow('second', cv2.WINDOW_NORMAL,)\n",
    "\n",
    "img = cv2.imread(\"C:/Users/nimac/MyProjects/vision/HW/HW1/IMG_2919.JPG\")\n",
    "cv2.imshow(\"first\", img)\n",
    "cv2.waitKey(0)"
   ]
  },
  {
   "cell_type": "code",
   "execution_count": 7,
   "metadata": {
    "ExecuteTime": {
     "end_time": "2019-11-02T10:46:37.420292Z",
     "start_time": "2019-11-02T10:46:33.877297Z"
    }
   },
   "outputs": [
    {
     "name": "stdout",
     "output_type": "stream",
     "text": [
      "0\n",
      "0\n",
      "127\n"
     ]
    }
   ],
   "source": [
    "row = img.shape[0];\n",
    "col = img.shape[1];\n",
    "norm = scipy.stats.norm(127, 27)\n",
    "# norm.ppf(990/(1000*row*col) + 0.005)\n",
    "sum = 0\n",
    "ans = [int(norm.pdf(0)*row*col)]\n",
    "cml = [0]\n",
    "for i in range(1, 256):\n",
    "    if(60 < i and i < 230):\n",
    "        ans.append(int(norm.pdf(i)*row*col) + 1)\n",
    "    else:\n",
    "        ans.append(int(norm.pdf(i)*row*col) + 0)\n",
    "    cml.append(cml[i-1]+ans[i])\n",
    "\n",
    "res = []\n",
    "\n",
    "for i in range(256):\n",
    "    for j in range(ans[i]):\n",
    "        res.append(i)\n",
    "print(row*col - np.sum(ans))\n",
    "print(row*col - len(res))\n",
    "print(res[row*col//2])"
   ]
  },
  {
   "cell_type": "code",
   "execution_count": 22,
   "metadata": {
    "ExecuteTime": {
     "end_time": "2019-11-02T10:59:20.868955Z",
     "start_time": "2019-11-02T10:58:26.020939Z"
    }
   },
   "outputs": [
    {
     "name": "stdout",
     "output_type": "stream",
     "text": [
      "168\n",
      "4993\n",
      "6837\n",
      "11800\n",
      "127.00022549206224\n",
      "5314\n",
      "5670\n",
      "9569\n",
      "127.5\n"
     ]
    }
   ],
   "source": [
    "millis = int(round(time.time() * 1000))\n",
    "\n",
    "img_hsv = np.array(cv2.cvtColor(img, cv2.COLOR_BGR2HSV))\n",
    "\n",
    "row = img.shape[0];\n",
    "col = img.shape[1];\n",
    "hist_size = row*col//256\n",
    "\n",
    "print(int(round(time.time() * 1000)) - millis)\n",
    "millis = int(round(time.time() * 1000))\n",
    "\n",
    "\n",
    "\n",
    "def equalize(mat, calc_bright):\n",
    "    millis = int(round(time.time() * 1000))\n",
    "    cells = []\n",
    "    for i, cols in enumerate(mat):\n",
    "        for j, val in enumerate(cols):\n",
    "            cells.append((i, j, val))\n",
    "    \n",
    "    print(int(round(time.time() * 1000)) - millis)\n",
    "    millis = int(round(time.time() * 1000))\n",
    "    \n",
    "    cells.sort(key=lambda x: x[2])\n",
    "    \n",
    "    print(int(round(time.time() * 1000)) - millis)\n",
    "    millis = int(round(time.time() * 1000))\n",
    "    \n",
    "    for i, v in enumerate(cells):\n",
    "        mat[cells[i][0]][cells[i][1]] = calc_bright(i)\n",
    "    \n",
    "    print(int(round(time.time() * 1000)) - millis)\n",
    "    millis = int(round(time.time() * 1000))\n",
    "    \n",
    "    print(np.average(mat))\n",
    "    \n",
    "    return mat\n",
    "\n",
    "def calc_bright(i):\n",
    "    return res[i]\n",
    "#   return i//hist_size\n",
    "\n",
    "im1 = np.uint32(equalize(img_hsv[:, :, 2], calc_bright))\n",
    "\n",
    "def calc_bright(i):\n",
    "#     return res[i]\n",
    "    return i//hist_size\n",
    "\n",
    "im2 = np.uint32(equalize(img_hsv[:, :, 2], calc_bright))\n",
    "img_hsv[:, :, 2] = (im1+3 * im2)//4\n",
    "\n",
    "\n"
   ]
  },
  {
   "cell_type": "code",
   "execution_count": 23,
   "metadata": {
    "ExecuteTime": {
     "end_time": "2019-11-02T11:00:26.098815Z",
     "start_time": "2019-11-02T10:59:23.115497Z"
    }
   },
   "outputs": [
    {
     "data": {
      "text/plain": [
       "27"
      ]
     },
     "execution_count": 23,
     "metadata": {},
     "output_type": "execute_result"
    }
   ],
   "source": [
    "img_final = np.uint8(cv2.cvtColor(img_hsv, cv2.COLOR_HSV2BGR))\n",
    "cv2.imwrite('im02.jpg', img_final)\n",
    "cv2.imshow(\"second\", img_final)\n",
    "cv2.waitKey(0)\n",
    "\n"
   ]
  },
  {
   "cell_type": "markdown",
   "metadata": {},
   "source": [
    "<div dir=\"rtl\">\n",
    "برای تبدیل هستوگرام تصویر، ابتدا آن را به مبنای اچ اس وی تبدیل کرده ایم و سپس از توزیع نرمال و توزیع یکنواخت استفاده کردیم تا میزان روشنایی هر پیکسل را در بازه صفر تا ۲۵۵ قرار دهیم. از میانگین نتیجه این دو توزیع برای بهبود بیشتر عکس استفاده شده است.\n",
    "</div>\n"
   ]
  },
  {
   "cell_type": "code",
   "execution_count": null,
   "metadata": {},
   "outputs": [],
   "source": []
  }
 ],
 "metadata": {
  "kernelspec": {
   "display_name": "Python 3",
   "language": "python",
   "name": "python3"
  },
  "language_info": {
   "codemirror_mode": {
    "name": "ipython",
    "version": 3
   },
   "file_extension": ".py",
   "mimetype": "text/x-python",
   "name": "python",
   "nbconvert_exporter": "python",
   "pygments_lexer": "ipython3",
   "version": "3.7.3"
  }
 },
 "nbformat": 4,
 "nbformat_minor": 2
}
